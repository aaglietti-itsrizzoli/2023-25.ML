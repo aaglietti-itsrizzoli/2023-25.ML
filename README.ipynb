{
 "cells": [
  {
   "cell_type": "markdown",
   "id": "a3987b5c-31e5-46e7-82e8-78f0773742af",
   "metadata": {},
   "source": [
    "Hello from SageMaker"
   ]
  }
 ],
 "metadata": {
  "kernelspec": {
   "display_name": "conda_tensorflow2_p310",
   "language": "python",
   "name": "conda_tensorflow2_p310"
  },
  "language_info": {
   "codemirror_mode": {
    "name": "ipython",
    "version": 3
   },
   "file_extension": ".py",
   "mimetype": "text/x-python",
   "name": "python",
   "nbconvert_exporter": "python",
   "pygments_lexer": "ipython3",
   "version": "3.10.14"
  }
 },
 "nbformat": 4,
 "nbformat_minor": 5
}
